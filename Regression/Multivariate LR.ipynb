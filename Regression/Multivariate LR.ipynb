{
 "cells": [
  {
   "cell_type": "code",
   "execution_count": 2,
   "metadata": {},
   "outputs": [
    {
     "data": {
      "text/html": [
       "<div>\n",
       "<style scoped>\n",
       "    .dataframe tbody tr th:only-of-type {\n",
       "        vertical-align: middle;\n",
       "    }\n",
       "\n",
       "    .dataframe tbody tr th {\n",
       "        vertical-align: top;\n",
       "    }\n",
       "\n",
       "    .dataframe thead th {\n",
       "        text-align: right;\n",
       "    }\n",
       "</style>\n",
       "<table border=\"1\" class=\"dataframe\">\n",
       "  <thead>\n",
       "    <tr style=\"text-align: right;\">\n",
       "      <th></th>\n",
       "      <th>Life expectancy</th>\n",
       "      <th>infant deaths</th>\n",
       "      <th>Alcohol</th>\n",
       "      <th>percentage expenditure</th>\n",
       "      <th>Hepatitis B</th>\n",
       "      <th>Measles</th>\n",
       "      <th>BMI</th>\n",
       "      <th>Total expenditure</th>\n",
       "      <th>Population</th>\n",
       "      <th>Schooling</th>\n",
       "    </tr>\n",
       "  </thead>\n",
       "  <tbody>\n",
       "    <tr>\n",
       "      <th>0</th>\n",
       "      <td>72.6</td>\n",
       "      <td>0</td>\n",
       "      <td>9.85</td>\n",
       "      <td>1137.623700</td>\n",
       "      <td>92</td>\n",
       "      <td>0</td>\n",
       "      <td>58.5</td>\n",
       "      <td>6.84</td>\n",
       "      <td>2141669.0</td>\n",
       "      <td>16.4</td>\n",
       "    </tr>\n",
       "    <tr>\n",
       "      <th>1</th>\n",
       "      <td>66.5</td>\n",
       "      <td>30</td>\n",
       "      <td>0.07</td>\n",
       "      <td>0.000000</td>\n",
       "      <td>63</td>\n",
       "      <td>0</td>\n",
       "      <td>51.3</td>\n",
       "      <td>4.36</td>\n",
       "      <td>25627626.0</td>\n",
       "      <td>9.4</td>\n",
       "    </tr>\n",
       "    <tr>\n",
       "      <th>2</th>\n",
       "      <td>73.3</td>\n",
       "      <td>1</td>\n",
       "      <td>3.67</td>\n",
       "      <td>192.322631</td>\n",
       "      <td>98</td>\n",
       "      <td>0</td>\n",
       "      <td>45.4</td>\n",
       "      <td>4.80</td>\n",
       "      <td>2728777.0</td>\n",
       "      <td>11.1</td>\n",
       "    </tr>\n",
       "    <tr>\n",
       "      <th>3</th>\n",
       "      <td>59.8</td>\n",
       "      <td>1</td>\n",
       "      <td>0.45</td>\n",
       "      <td>20.868787</td>\n",
       "      <td>25</td>\n",
       "      <td>24</td>\n",
       "      <td>3.9</td>\n",
       "      <td>7.72</td>\n",
       "      <td>8942.0</td>\n",
       "      <td>4.5</td>\n",
       "    </tr>\n",
       "    <tr>\n",
       "      <th>4</th>\n",
       "      <td>76.0</td>\n",
       "      <td>32</td>\n",
       "      <td>0.01</td>\n",
       "      <td>429.662508</td>\n",
       "      <td>61</td>\n",
       "      <td>15</td>\n",
       "      <td>57.2</td>\n",
       "      <td>5.26</td>\n",
       "      <td>32776571.0</td>\n",
       "      <td>10.5</td>\n",
       "    </tr>\n",
       "  </tbody>\n",
       "</table>\n",
       "</div>"
      ],
      "text/plain": [
       "   Life expectancy  infant deaths  Alcohol  percentage expenditure  \\\n",
       "0             72.6              0     9.85             1137.623700   \n",
       "1             66.5             30     0.07                0.000000   \n",
       "2             73.3              1     3.67              192.322631   \n",
       "3             59.8              1     0.45               20.868787   \n",
       "4             76.0             32     0.01              429.662508   \n",
       "\n",
       "   Hepatitis B  Measles   BMI  Total expenditure  Population  Schooling  \n",
       "0           92        0  58.5               6.84   2141669.0       16.4  \n",
       "1           63        0  51.3               4.36  25627626.0        9.4  \n",
       "2           98        0  45.4               4.80   2728777.0       11.1  \n",
       "3           25       24   3.9               7.72      8942.0        4.5  \n",
       "4           61       15  57.2               5.26  32776571.0       10.5  "
      ]
     },
     "execution_count": 2,
     "metadata": {},
     "output_type": "execute_result"
    }
   ],
   "source": [
    "import matplotlib.pyplot as plt\n",
    "import seaborn as sns; sns.set()\n",
    "import numpy as np\n",
    "import pandas as pd\n",
    "\n",
    "df = pd.read_csv(\"life_expectancy.csv\")\n",
    "df.head()"
   ]
  },
  {
   "cell_type": "markdown",
   "metadata": {},
   "source": [
    "Multivariate Linear Regression fits a line of the form:\n",
    "\n",
    "$$\\hat{y} = \\theta_0 + \\theta_1x_1 + \\theta_2x_2 +...+ \\theta_nx_n$$\n",
    "\n",
    "In Matrix form:\n",
    "\n",
    "$$\\begin{bmatrix}\n",
    "y_1\\\\\n",
    ".\\\\\n",
    ".\\\\\n",
    "y_n\n",
    "\\end{bmatrix} =\n",
    "\\begin{bmatrix}\n",
    "1 & x_{11} & .. & x_{1k}\\\\\n",
    ".\\\\\n",
    ".\\\\\n",
    "1 & x_{n1} & .. & x_{nk}\n",
    "\\end{bmatrix} \n",
    "\\begin{bmatrix}\n",
    "\\theta_0\\\\\n",
    ".\\\\\n",
    ".\\\\\n",
    "\\theta_k\n",
    "\\end{bmatrix}$$\n",
    "\n",
    "$$\\hat{y} = X\\theta$$\n",
    "\n",
    "Predicting Life Expectancy from features:"
   ]
  },
  {
   "cell_type": "code",
   "execution_count": 31,
   "metadata": {},
   "outputs": [
    {
     "name": "stdout",
     "output_type": "stream",
     "text": [
      "[ 5.74717395  1.93414533 -0.03710352 -0.22334281]\n",
      "MSE:  35.78052345561173\n"
     ]
    }
   ],
   "source": [
    "from sklearn.linear_model import LinearRegression\n",
    "from sklearn.model_selection import train_test_split\n",
    "from sklearn.pipeline import Pipeline\n",
    "from sklearn.preprocessing import StandardScaler #Always scale / normalise data, else predictors given unessesary weights \n",
    "from sklearn.metrics import mean_squared_error\n",
    "\n",
    "#Feature Selection\n",
    "x_data = df[[\"Schooling\", \"BMI\", \"Alcohol\", \"Population\"]]\n",
    "y_data = df[\"Life expectancy\"]\n",
    "\n",
    "#Split data\n",
    "train_x, test_x, train_y, test_y = train_test_split(x_data, y_data, test_size=0.30)\n",
    "#Pipeline model\n",
    "pipe = Pipeline(steps = [(\"scaler\", StandardScaler()), (\"reg\", LinearRegression())])\n",
    "pipe.fit(train_x, train_y)\n",
    "#Predict the targets\n",
    "predicted_y = pipe.predict(test_x)\n",
    "\n",
    "print(pipe.named_steps[\"reg\"].coef_)\n",
    "print(\"MSE: \", mean_squared_error(test_y, predicted_y))"
   ]
  },
  {
   "cell_type": "markdown",
   "metadata": {},
   "source": [
    "Stochastic Gradient Decent, useful when dealing woth large data sets, reduces computation dramatically"
   ]
  },
  {
   "cell_type": "code",
   "execution_count": 26,
   "metadata": {},
   "outputs": [
    {
     "name": "stdout",
     "output_type": "stream",
     "text": [
      "MSE:  27.951664959000347\n"
     ]
    }
   ],
   "source": [
    "from sklearn.linear_model import SGDRegressor\n",
    "from sklearn.pipeline import make_pipeline\n",
    "\n",
    "model = make_pipeline(StandardScaler(), SGDRegressor())\n",
    "model.fit(train_x, train_y)\n",
    "predicted_y = model.predict(test_x)\n",
    "\n",
    "print(\"MSE: \", mean_squared_error(test_y, predicted_y))"
   ]
  }
 ],
 "metadata": {
  "kernelspec": {
   "display_name": "Python 3",
   "language": "python",
   "name": "python3"
  },
  "language_info": {
   "codemirror_mode": {
    "name": "ipython",
    "version": 3
   },
   "file_extension": ".py",
   "mimetype": "text/x-python",
   "name": "python",
   "nbconvert_exporter": "python",
   "pygments_lexer": "ipython3",
   "version": "3.7.6"
  }
 },
 "nbformat": 4,
 "nbformat_minor": 4
}
