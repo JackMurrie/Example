{
 "cells": [
  {
   "cell_type": "code",
   "execution_count": 22,
   "metadata": {},
   "outputs": [
    {
     "data": {
      "text/html": [
       "<div>\n",
       "<style scoped>\n",
       "    .dataframe tbody tr th:only-of-type {\n",
       "        vertical-align: middle;\n",
       "    }\n",
       "\n",
       "    .dataframe tbody tr th {\n",
       "        vertical-align: top;\n",
       "    }\n",
       "\n",
       "    .dataframe thead th {\n",
       "        text-align: right;\n",
       "    }\n",
       "</style>\n",
       "<table border=\"1\" class=\"dataframe\">\n",
       "  <thead>\n",
       "    <tr style=\"text-align: right;\">\n",
       "      <th></th>\n",
       "      <th>Life expectancy</th>\n",
       "      <th>infant deaths</th>\n",
       "      <th>Alcohol</th>\n",
       "      <th>percentage expenditure</th>\n",
       "      <th>Hepatitis B</th>\n",
       "      <th>Measles</th>\n",
       "      <th>BMI</th>\n",
       "      <th>Total expenditure</th>\n",
       "      <th>Population</th>\n",
       "      <th>Schooling</th>\n",
       "    </tr>\n",
       "  </thead>\n",
       "  <tbody>\n",
       "    <tr>\n",
       "      <th>0</th>\n",
       "      <td>72.6</td>\n",
       "      <td>0</td>\n",
       "      <td>9.85</td>\n",
       "      <td>1137.623700</td>\n",
       "      <td>92</td>\n",
       "      <td>0</td>\n",
       "      <td>58.5</td>\n",
       "      <td>6.84</td>\n",
       "      <td>2141669.0</td>\n",
       "      <td>16.4</td>\n",
       "    </tr>\n",
       "    <tr>\n",
       "      <th>1</th>\n",
       "      <td>66.5</td>\n",
       "      <td>30</td>\n",
       "      <td>0.07</td>\n",
       "      <td>0.000000</td>\n",
       "      <td>63</td>\n",
       "      <td>0</td>\n",
       "      <td>51.3</td>\n",
       "      <td>4.36</td>\n",
       "      <td>25627626.0</td>\n",
       "      <td>9.4</td>\n",
       "    </tr>\n",
       "    <tr>\n",
       "      <th>2</th>\n",
       "      <td>73.3</td>\n",
       "      <td>1</td>\n",
       "      <td>3.67</td>\n",
       "      <td>192.322631</td>\n",
       "      <td>98</td>\n",
       "      <td>0</td>\n",
       "      <td>45.4</td>\n",
       "      <td>4.80</td>\n",
       "      <td>2728777.0</td>\n",
       "      <td>11.1</td>\n",
       "    </tr>\n",
       "    <tr>\n",
       "      <th>3</th>\n",
       "      <td>59.8</td>\n",
       "      <td>1</td>\n",
       "      <td>0.45</td>\n",
       "      <td>20.868787</td>\n",
       "      <td>25</td>\n",
       "      <td>24</td>\n",
       "      <td>3.9</td>\n",
       "      <td>7.72</td>\n",
       "      <td>8942.0</td>\n",
       "      <td>4.5</td>\n",
       "    </tr>\n",
       "    <tr>\n",
       "      <th>4</th>\n",
       "      <td>76.0</td>\n",
       "      <td>32</td>\n",
       "      <td>0.01</td>\n",
       "      <td>429.662508</td>\n",
       "      <td>61</td>\n",
       "      <td>15</td>\n",
       "      <td>57.2</td>\n",
       "      <td>5.26</td>\n",
       "      <td>32776571.0</td>\n",
       "      <td>10.5</td>\n",
       "    </tr>\n",
       "  </tbody>\n",
       "</table>\n",
       "</div>"
      ],
      "text/plain": [
       "   Life expectancy  infant deaths  Alcohol  percentage expenditure  \\\n",
       "0             72.6              0     9.85             1137.623700   \n",
       "1             66.5             30     0.07                0.000000   \n",
       "2             73.3              1     3.67              192.322631   \n",
       "3             59.8              1     0.45               20.868787   \n",
       "4             76.0             32     0.01              429.662508   \n",
       "\n",
       "   Hepatitis B  Measles   BMI  Total expenditure  Population  Schooling  \n",
       "0           92        0  58.5               6.84   2141669.0       16.4  \n",
       "1           63        0  51.3               4.36  25627626.0        9.4  \n",
       "2           98        0  45.4               4.80   2728777.0       11.1  \n",
       "3           25       24   3.9               7.72      8942.0        4.5  \n",
       "4           61       15  57.2               5.26  32776571.0       10.5  "
      ]
     },
     "execution_count": 22,
     "metadata": {},
     "output_type": "execute_result"
    }
   ],
   "source": [
    "import matplotlib.pyplot as plt\n",
    "import seaborn as sns; sns.set()\n",
    "import numpy as np\n",
    "import pandas as pd\n",
    "\n",
    "df = pd.read_csv(\"life_expectancy.csv\")\n",
    "df.head()"
   ]
  },
  {
   "cell_type": "markdown",
   "metadata": {},
   "source": [
    "Given a vectors of responses $y$ and predictors $x$ Simple Linear Regression's goal is to fit a line such that:\n",
    "\n",
    "$$\\hat{y} = \\theta_0 + \\theta_1x$$\n",
    "\n",
    "The parameter expressions are obtained my minimising the Least Squares Estimator: $\\sum_{i} (y_i - \\hat{y}_i)^2$\n",
    "\n",
    "$$\\theta_0 = \\bar{y} - \\theta_1 \\bar{x}$$\n",
    "$$\\theta_1 = \\frac{cov(x,y)}{var(x)}$$\n",
    "\n",
    "Predicting Life expectancy from Schooling:"
   ]
  },
  {
   "cell_type": "code",
   "execution_count": 45,
   "metadata": {},
   "outputs": [
    {
     "name": "stdout",
     "output_type": "stream",
     "text": [
      "Coefficients:  2.334857638407736 41.254051417582325\n",
      "Mean squared error: 37.70\n"
     ]
    },
    {
     "data": {
      "image/png": "[encoded data removed]",
      "text/plain": [
       "<Figure size 432x288 with 1 Axes>"
      ]
     },
     "metadata": {},
     "output_type": "display_data"
    }
   ],
   "source": [
    "from sklearn.linear_model import LinearRegression\n",
    "from sklearn.model_selection import train_test_split\n",
    "\n",
    "#Feature Selection\n",
    "x_data = df[\"Schooling\"].values.reshape(-1,1)\n",
    "y_data = df[\"Life expectancy\"]\n",
    "\n",
    "#Split data\n",
    "train_x, test_x, train_y, test_y = train_test_split(x_data, y_data, test_size=0.30)\n",
    "#Create linear regression model\n",
    "model = LinearRegression()\n",
    "#Train the model\n",
    "model.fit(train_x,train_y)\n",
    "#Predict the targets\n",
    "predicted_y = model.predict(test_x)\n",
    "\n",
    "#Output the coefficient\n",
    "print('Coefficients: ', model.coef_[0], model.intercept_)\n",
    "#Calculate the Mean Squared Error\n",
    "mse = np.mean((predicted_y - test_y) ** 2)\n",
    "print (\"Mean squared error: %.2f\" % mse)\n",
    "\n",
    "plt.scatter(train_x,train_y)\n",
    "plt.scatter(test_x,test_y, color=\"red\")\n",
    "plt.plot(test_x,predicted_y,color=\"red\")\n",
    "plt.show()"
   ]
  },
  {
   "cell_type": "markdown",
   "metadata": {},
   "source": [
    "When making predictions from large dataset, stochastic gradient may be used.\n",
    "\n",
    "Gradientdescent iteratively performs an update on some initial theta, taking a step in the direction of steepest decrease in J($\\theta$), the cost function:\n",
    "\n",
    "$$J(\\theta) = \\frac{1}{m}\\sum_{i=1}^m (y_i - \\hat{y_i})$$\n",
    "\n",
    "Update Rule, where $\\alpha$ is a learning rate:\n",
    "\n",
    "$$\\theta_i := \\theta_i - \\alpha \\frac{\\delta}{\\delta\\theta_i}J(\\theta)$$"
   ]
  },
  {
   "cell_type": "code",
   "execution_count": 26,
   "metadata": {},
   "outputs": [
    {
     "name": "stdout",
     "output_type": "stream",
     "text": [
      "Theta_0 = 42.29135470620663\n",
      "Theta_1 = 2.7363044360517965\n"
     ]
    }
   ],
   "source": [
    "def J(x_data, y_data, theta_0, theta_1):\n",
    "    m = len(y_data)\n",
    "    \n",
    "    cost = 0\n",
    "    for x in range(0, m):\n",
    "        cost += (y_data[x] - (theta_0 + theta_1*x_data[x]))**2\n",
    "        \n",
    "    return cost / m\n",
    "\n",
    "def stochastic_gradient_descent(theta_0, theta_1, alpha, x_data, y_data, iterations):\n",
    "    cost_values = []\n",
    "    m = len(y_data)\n",
    "    \n",
    "    for iteration in range(0, iterations):\n",
    "        for j in range(0, m):\n",
    "            theta_0 = theta_0 + alpha * (y_data[j] - (theta_0 + theta_1*x_data[j])) * 1\n",
    "\n",
    "            theta_1 = theta_1 + alpha * (y_data[j] - (theta_0 + theta_1*x_data[j])) * x_data[j]\n",
    "\n",
    "        cost_values.append(J(x_data, y_data, theta_0, theta_1))\n",
    "\n",
    "    return theta_0, theta_1, cost_values\n",
    " \n",
    "    \n",
    "train_x = df[\"Schooling\"]\n",
    "train_y = df[\"Life expectancy\"]\n",
    "    \n",
    "theta0, theta1, cost_values = stochastic_gradient_descent(-1, -0.5, 0.01, train_x, train_y, 50)\n",
    "\n",
    "print(\"Theta_0 = {}\".format(theta0))\n",
    "print(\"Theta_1 = {}\".format(theta1))"
   ]
  },
  {
   "cell_type": "code",
   "execution_count": 31,
   "metadata": {},
   "outputs": [
    {
     "data": {
      "image/png": "[encoded data removed]",
      "text/plain": [
       "<Figure size 432x288 with 1 Axes>"
      ]
     },
     "metadata": {},
     "output_type": "display_data"
    }
   ],
   "source": [
    "plt.scatter(range(0, 50), cost_values)\n",
    "plt.xlabel(\"Iterations\")\n",
    "plt.ylabel(\"Cost Values\")\n",
    "plt.show()"
   ]
  },
  {
   "cell_type": "markdown",
   "metadata": {},
   "source": [
    "As can be seen above the cost function settles close to the minimum"
   ]
  }
 ],
 "metadata": {
  "kernelspec": {
   "display_name": "Python 3",
   "language": "python",
   "name": "python3"
  },
  "language_info": {
   "codemirror_mode": {
    "name": "ipython",
    "version": 3
   },
   "file_extension": ".py",
   "mimetype": "text/x-python",
   "name": "python",
   "nbconvert_exporter": "python",
   "pygments_lexer": "ipython3",
   "version": "3.7.6"
  }
 },
 "nbformat": 4,
 "nbformat_minor": 4
}
